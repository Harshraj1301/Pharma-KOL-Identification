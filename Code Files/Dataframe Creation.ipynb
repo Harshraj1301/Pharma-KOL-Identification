{
  "nbformat": 4,
  "nbformat_minor": 0,
  "metadata": {
    "colab": {
      "provenance": []
    },
    "kernelspec": {
      "name": "python3",
      "display_name": "Python 3"
    },
    "language_info": {
      "name": "python"
    }
  },
  "cells": [
    {
      "cell_type": "code",
      "execution_count": 1,
      "metadata": {
        "id": "DKi-vevSF-5I"
      },
      "outputs": [],
      "source": [
        "import pandas as pd"
      ]
    },
    {
      "cell_type": "code",
      "source": [
        "# Load your CSV file\n",
        "df = pd.read_csv('wos_grouped (1).csv')\n",
        "\n",
        "# Filter columns starting with \"Funding Name Preferred_\"\n",
        "funding_columns = [col for col in df.columns if col.startswith('Funding Name Preferred_')]\n",
        "\n",
        "# Sum these columns and add as a new column\n",
        "df['Funding_Total'] = df[funding_columns].sum(axis=1)\n",
        "\n",
        "# Count non-zero values in these columns and add as a new column\n",
        "df['Funding_Non_Zero_Count'] = df[funding_columns].astype(bool).sum(axis=1)"
      ],
      "metadata": {
        "colab": {
          "base_uri": "https://localhost:8080/"
        },
        "id": "wgH8M1AKGEUG",
        "outputId": "69d523f1-9a05-429e-9c44-688b304a0102"
      },
      "execution_count": 3,
      "outputs": [
        {
          "output_type": "stream",
          "name": "stdout",
          "text": [
            "0          1\n",
            "1        289\n",
            "2          3\n",
            "3          0\n",
            "4         51\n",
            "        ... \n",
            "11594      4\n",
            "11595     98\n",
            "11596     81\n",
            "11597      6\n",
            "11598      1\n",
            "Name: Funding_Total, Length: 11599, dtype: int64\n"
          ]
        }
      ]
    },
    {
      "cell_type": "code",
      "source": [
        "# Filter columns starting with \"Funding Name Preferred_\"\n",
        "affiliations = [col for col in df.columns if col.startswith('Affiliations_')]\n",
        "\n",
        "# Sum these columns and add as a new column\n",
        "df['Affiliations_Total'] = df[affiliations].sum(axis=1)\n",
        "\n",
        "# Count non-zero values in these columns and add as a new column\n",
        "df['Unique_Affiliations'] = df[affiliations].astype(bool).sum(axis=1)\n",
        "\n",
        "print(df['Unique_Affiliations'])"
      ],
      "metadata": {
        "colab": {
          "base_uri": "https://localhost:8080/"
        },
        "id": "BmqsgATWGg5c",
        "outputId": "4a9f1544-05a9-475b-a33e-b96640fa9340"
      },
      "execution_count": 4,
      "outputs": [
        {
          "output_type": "stream",
          "name": "stdout",
          "text": [
            "0         429\n",
            "1         108\n",
            "2           5\n",
            "3           3\n",
            "4         133\n",
            "         ... \n",
            "11594       3\n",
            "11595      69\n",
            "11596      96\n",
            "11597      36\n",
            "11598    1681\n",
            "Name: Unique_Affiliations, Length: 11599, dtype: int64\n"
          ]
        }
      ]
    },
    {
      "cell_type": "code",
      "source": [
        "# Filter columns starting with \"Funding Name Preferred_\"\n",
        "wos = [col for col in df.columns if col.startswith('WoS Categories_')]\n",
        "\n",
        "# Sum these columns and add as a new column\n",
        "df['WoS_Total'] = df[wos].sum(axis=1)\n",
        "\n",
        "# Count non-zero values in these columns and add as a new column\n",
        "df['WoS_unique'] = df[wos].astype(bool).sum(axis=1)\n",
        "\n",
        "print(df['WoS_unique'])"
      ],
      "metadata": {
        "colab": {
          "base_uri": "https://localhost:8080/"
        },
        "id": "9fL3zalRHv3y",
        "outputId": "8a8a070c-fed4-42ef-eddf-7cc123ed0efc"
      },
      "execution_count": 6,
      "outputs": [
        {
          "output_type": "stream",
          "name": "stdout",
          "text": [
            "0         1\n",
            "1         4\n",
            "2         1\n",
            "3         1\n",
            "4         4\n",
            "         ..\n",
            "11594     1\n",
            "11595     4\n",
            "11596     2\n",
            "11597     1\n",
            "11598    96\n",
            "Name: WoS_unique, Length: 11599, dtype: int64\n"
          ]
        }
      ]
    },
    {
      "cell_type": "code",
      "source": [
        "# Filter columns starting with \"Funding Name Preferred_\"\n",
        "research = [col for col in df.columns if col.startswith('Research Areas_')]\n",
        "\n",
        "# Sum these columns and add as a new column\n",
        "df['Research_Areas_Total'] = df[research].sum(axis=1)\n",
        "\n",
        "# Count non-zero values in these columns and add as a new column\n",
        "df['Research_Areas_unique'] = df[research].astype(bool).sum(axis=1)\n",
        "\n",
        "print(df['Research_Areas_unique'])"
      ],
      "metadata": {
        "colab": {
          "base_uri": "https://localhost:8080/"
        },
        "id": "S4X1p95ZIACJ",
        "outputId": "9fbfb5c1-53c8-4bd6-f988-64b64f667cc3"
      },
      "execution_count": 7,
      "outputs": [
        {
          "output_type": "stream",
          "name": "stdout",
          "text": [
            "0         1\n",
            "1         3\n",
            "2         1\n",
            "3         1\n",
            "4         4\n",
            "         ..\n",
            "11594     1\n",
            "11595     3\n",
            "11596     2\n",
            "11597     1\n",
            "11598    68\n",
            "Name: Research_Areas_unique, Length: 11599, dtype: int64\n"
          ]
        }
      ]
    },
    {
      "cell_type": "code",
      "source": [
        "updated_data = df[['Author Full Names', 'Funding_Total', \"Funding_Non_Zero_Count\",\"Affiliations_Total\",\"Unique_Affiliations\", \"WoS_Total\",\"WoS_unique\",\"Research_Areas_Total\",\"Research_Areas_unique\",\"Cited Reference Count\",\"Times Cited, All Databases\",\"Since 2013 Usage Count\",\"Email Addresses\",\"Publisher\",\"Publisher City\",\"Total Payment\"]]"
      ],
      "metadata": {
        "id": "Jy7B8jhyIcAR"
      },
      "execution_count": 13,
      "outputs": []
    },
    {
      "cell_type": "code",
      "source": [
        "updated_data.to_csv(\"new_data.csv\", index = False)"
      ],
      "metadata": {
        "id": "Sq6hfElqJWMX"
      },
      "execution_count": 15,
      "outputs": []
    },
    {
      "cell_type": "code",
      "source": [],
      "metadata": {
        "id": "4i_uOa04JnO_"
      },
      "execution_count": null,
      "outputs": []
    }
  ]
}